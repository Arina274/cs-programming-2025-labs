{
 "cells": [
  {
   "cell_type": "markdown",
   "id": "3455dbe4",
   "metadata": {},
   "source": [
    "Задание 1"
   ]
  },
  {
   "cell_type": "code",
   "execution_count": 7,
   "id": "b21fae6a",
   "metadata": {},
   "outputs": [
    {
     "name": "stdout",
     "output_type": "stream",
     "text": [
      "Кондиционер включен\n"
     ]
    }
   ],
   "source": [
    "\n",
    "C=int(input('Введи температуру'))\n",
    "if C>=20:\n",
    "    print('Кондиционер выключен')\n",
    "else:\n",
    "    print('Кондиционер включен')\n",
    "\n"
   ]
  },
  {
   "cell_type": "markdown",
   "id": "c0a5523b",
   "metadata": {},
   "source": [
    "## Задание 2"
   ]
  },
  {
   "cell_type": "code",
   "execution_count": 8,
   "id": "acf841c6",
   "metadata": {},
   "outputs": [
    {
     "name": "stdout",
     "output_type": "stream",
     "text": [
      "Это весна\n"
     ]
    }
   ],
   "source": [
    "\n",
    "X=int(input('Введи номер месяца'))\n",
    "if X in [1,2,12]:\n",
    "    print('Это зима')\n",
    "if X in [3,4,5]:\n",
    "    print('Это весна')\n",
    "if X in [6,7,8]:\n",
    "    print('Это лето')\n",
    "if X in [9,10,11]:\n",
    "    print('Это осень')\n"
   ]
  },
  {
   "cell_type": "markdown",
   "id": "11a014cc",
   "metadata": {},
   "source": [
    "Задание 3"
   ]
  },
  {
   "cell_type": "code",
   "execution_count": 9,
   "id": "a248f2d5",
   "metadata": {},
   "outputs": [
    {
     "ename": "TypeError",
     "evalue": "can only concatenate str (not \"float\") to str",
     "output_type": "error",
     "traceback": [
      "\u001b[31m---------------------------------------------------------------------------\u001b[39m",
      "\u001b[31mTypeError\u001b[39m                                 Traceback (most recent call last)",
      "\u001b[36mCell\u001b[39m\u001b[36m \u001b[39m\u001b[32mIn[9]\u001b[39m\u001b[32m, line 11\u001b[39m\n\u001b[32m      9\u001b[39m     \u001b[38;5;28;01melse\u001b[39;00m:\n\u001b[32m     10\u001b[39m         S=\u001b[32m10.5\u001b[39m*\u001b[32m2\u001b[39m+(S-\u001b[32m2\u001b[39m)*\u001b[32m4\u001b[39m\n\u001b[32m---> \u001b[39m\u001b[32m11\u001b[39m \u001b[38;5;28mprint\u001b[39m(\u001b[33;43m'\u001b[39;49m\u001b[33;43mВозраст собаки в человеческих годах: \u001b[39;49m\u001b[33;43m'\u001b[39;49m\u001b[43m+\u001b[49m\u001b[43mS\u001b[49m)\n",
      "\u001b[31mTypeError\u001b[39m: can only concatenate str (not \"float\") to str"
     ]
    }
   ],
   "source": [
    "S=int(input('Введи возраст собаки(в годах)'))\n",
    "if S<1:\n",
    "    print('Ошибка:число должно быть не меньше 1')\n",
    "elif S>22:\n",
    "    print('Ошибка:число должно быть не больше 22')\n",
    "else:\n",
    "    if S<=2:\n",
    "        S*=10.5\n",
    "    else:\n",
    "        S=10.5*2+(S-2)*4\n",
    "print('Возраст собаки в человеческих годах: '+S)\n"
   ]
  },
  {
   "cell_type": "markdown",
   "id": "b7c1dd9c",
   "metadata": {},
   "source": [
    "Задание 4"
   ]
  },
  {
   "cell_type": "code",
   "execution_count": null,
   "id": "497143c2",
   "metadata": {},
   "outputs": [],
   "source": [
    "W=int(input('Введи число: '))\n",
    "sum="
   ]
  },
  {
   "cell_type": "markdown",
   "id": "00b00a39",
   "metadata": {},
   "source": [
    "Задание 5"
   ]
  },
  {
   "cell_type": "code",
   "execution_count": 27,
   "id": "9b49a642",
   "metadata": {},
   "outputs": [
    {
     "name": "stdout",
     "output_type": "stream",
     "text": [
      "Ошибка:  ['нет строчных', 'нет спецсимволов', 'нет цифр']\n"
     ]
    }
   ],
   "source": [
    "x=input('Введи пароль:')\n",
    "y=[]\n",
    "if len(x)<8: y.append('короткий пароль')\n",
    "if x.islower(): y.append('нет заглавных')\n",
    "if x.isupper(): y.append('нет строчных')\n",
    "if x.isalnum(): y.append('нет спецсимволов')\n",
    "if not any(c in '0123456789' for c in x): y.append('нет цифр')\n",
    "if y:\n",
    "    print('Ошибка: ',y)\n",
    "else:\n",
    "    print('Хороший пароль!')"
   ]
  },
  {
   "cell_type": "markdown",
   "id": "68094dea",
   "metadata": {},
   "source": [
    "Задание 7"
   ]
  },
  {
   "cell_type": "code",
   "execution_count": null,
   "id": "c9bae40b",
   "metadata": {},
   "outputs": [
    {
     "name": "stdout",
     "output_type": "stream",
     "text": [
      "1\n"
     ]
    }
   ],
   "source": [
    "a,b,c= input('Введи 3 числа').split()\n",
    "x=0\n",
    "if (a<b)and(a<c):print(a)\n",
    "if (b<a) and (b<c):print(b)\n",
    "if (c<a)and(c<b):print(c)\n"
   ]
  },
  {
   "cell_type": "markdown",
   "id": "0b1af846",
   "metadata": {},
   "source": [
    "Задание 8"
   ]
  },
  {
   "cell_type": "code",
   "execution_count": 47,
   "id": "48cfa9b5",
   "metadata": {},
   "outputs": [
    {
     "ename": "SyntaxError",
     "evalue": "invalid syntax (706644412.py, line 5)",
     "output_type": "error",
     "traceback": [
      "  \u001b[36mCell\u001b[39m\u001b[36m \u001b[39m\u001b[32mIn[47]\u001b[39m\u001b[32m, line 5\u001b[39m\n\u001b[31m    \u001b[39m\u001b[31melif S>=1000 and S<=5000:\u001b[39m\n    ^\n\u001b[31mSyntaxError\u001b[39m\u001b[31m:\u001b[39m invalid syntax\n"
     ]
    }
   ],
   "source": [
    "S=int(input('Введи сумму покупки: '))\n",
    "t=0\n",
    "if S<1000:\n",
    "    t=1\n",
    "    elif S>=1000 and S<=5000:\n",
    "        t=0,95\n",
    "        elif S>5000 and S<=10000:\n",
    "            t=0,9\n",
    "            elif S>10000:\n",
    "                t=0,85\n",
    "print(S*t)\n"
   ]
  }
 ],
 "metadata": {
  "kernelspec": {
   "display_name": "Python 3",
   "language": "python",
   "name": "python3"
  },
  "language_info": {
   "codemirror_mode": {
    "name": "ipython",
    "version": 3
   },
   "file_extension": ".py",
   "mimetype": "text/x-python",
   "name": "python",
   "nbconvert_exporter": "python",
   "pygments_lexer": "ipython3",
   "version": "3.13.7"
  }
 },
 "nbformat": 4,
 "nbformat_minor": 5
}
