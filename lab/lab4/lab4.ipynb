{
 "cells": [
  {
   "cell_type": "markdown",
   "id": "3455dbe4",
   "metadata": {},
   "source": [
    "Задание 1"
   ]
  },
  {
   "cell_type": "code",
   "execution_count": null,
   "id": "b21fae6a",
   "metadata": {},
   "outputs": [
    {
     "name": "stdout",
     "output_type": "stream",
     "text": [
      "Задание 1\n",
      "Кондиционер выключен\n",
      "\n"
     ]
    }
   ],
   "source": [
    "\n",
    "C=int(input('Введи температуру'))\n",
    "if C>=20:\n",
    "    print('Кондиционер выключен')\n",
    "else:\n",
    "    print('Кондиционер включен')\n",
    "\n"
   ]
  },
  {
   "cell_type": "markdown",
   "id": "c0a5523b",
   "metadata": {},
   "source": [
    "## Задание 2"
   ]
  },
  {
   "cell_type": "code",
   "execution_count": 9,
   "id": "acf841c6",
   "metadata": {},
   "outputs": [
    {
     "name": "stdout",
     "output_type": "stream",
     "text": [
      "Это весна\n"
     ]
    }
   ],
   "source": [
    "\n",
    "X=int(input('Введи номер месяца'))\n",
    "if X in [1,2,12]:\n",
    "    print('Это зима')\n",
    "if X in [3,4,5]:\n",
    "    print('Это весна')\n",
    "if X in [6,7,8]:\n",
    "    print('Это лето')\n",
    "if X in [9,10,11]:\n",
    "    print('Это осень')\n"
   ]
  },
  {
   "cell_type": "markdown",
   "id": "11a014cc",
   "metadata": {},
   "source": [
    "Задание 3"
   ]
  },
  {
   "cell_type": "code",
   "execution_count": null,
   "id": "a248f2d5",
   "metadata": {},
   "outputs": [],
   "source": [
    "S=input('Введи возраст собаки(в годах)')\n",
    "if S<1:\n",
    "    print('Ошибка:число должно быть не меньше 1')\n",
    "elif S>22:\n",
    "    print('Ошибка:число должно быть не больше 22')\n",
    "else:\n",
    "    if S<=2:\n",
    "        S*=10.5\n",
    "    else:\n",
    "        S=10.5*2+(S-2)*4\n",
    "print('Возраст собаки в человеческих годах: '+S)\n"
   ]
  },
  {
   "cell_type": "markdown",
   "id": "b7c1dd9c",
   "metadata": {},
   "source": [
    "Задание 4"
   ]
  },
  {
   "cell_type": "code",
   "execution_count": null,
   "id": "497143c2",
   "metadata": {},
   "outputs": [],
   "source": [
    "W=int(input('Введи число: '))\n",
    "sum="
   ]
  }
 ],
 "metadata": {
  "kernelspec": {
   "display_name": "Python 3",
   "language": "python",
   "name": "python3"
  },
  "language_info": {
   "codemirror_mode": {
    "name": "ipython",
    "version": 3
   },
   "file_extension": ".py",
   "mimetype": "text/x-python",
   "name": "python",
   "nbconvert_exporter": "python",
   "pygments_lexer": "ipython3",
   "version": "3.13.7"
  }
 },
 "nbformat": 4,
 "nbformat_minor": 5
}
