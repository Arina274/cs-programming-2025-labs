{
 "cells": [
  {
   "cell_type": "markdown",
   "id": "3455dbe4",
   "metadata": {},
   "source": [
    "Задание 1"
   ]
  },
  {
   "cell_type": "code",
   "execution_count": 1,
   "id": "b21fae6a",
   "metadata": {},
   "outputs": [
    {
     "name": "stdout",
     "output_type": "stream",
     "text": [
      "Кондиционер включен\n"
     ]
    }
   ],
   "source": [
    "\n",
    "C=int(input('Введи температуру'))\n",
    "if C>=20:\n",
    "    print('Кондиционер выключен')\n",
    "else:\n",
    "    print('Кондиционер включен')\n",
    "\n"
   ]
  },
  {
   "cell_type": "markdown",
   "id": "0abb071a",
   "metadata": {},
   "source": []
  },
  {
   "cell_type": "markdown",
   "id": "c0a5523b",
   "metadata": {},
   "source": [
    "## Задание 2"
   ]
  },
  {
   "cell_type": "code",
   "execution_count": 2,
   "id": "acf841c6",
   "metadata": {},
   "outputs": [
    {
     "name": "stdout",
     "output_type": "stream",
     "text": [
      "Это весна\n"
     ]
    }
   ],
   "source": [
    "\n",
    "X=int(input('Введи номер месяца'))\n",
    "if X in [1,2,12]:\n",
    "    print('Это зима')\n",
    "if X in [3,4,5]:\n",
    "    print('Это весна')\n",
    "if X in [6,7,8]:\n",
    "    print('Это лето')\n",
    "if X in [9,10,11]:\n",
    "    print('Это осень')\n"
   ]
  },
  {
   "cell_type": "markdown",
   "id": "11a014cc",
   "metadata": {},
   "source": [
    "Задание 3"
   ]
  },
  {
   "cell_type": "code",
   "execution_count": 11,
   "id": "a248f2d5",
   "metadata": {},
   "outputs": [
    {
     "name": "stdout",
     "output_type": "stream",
     "text": [
      "Возраст собаки в человеческих годах:  25.0\n"
     ]
    }
   ],
   "source": [
    "try:    \n",
    "    S=int(input('Введи возраст собаки(в годах)'))\n",
    "    if S<1:\n",
    "        print('Ошибка:число должно быть не меньше 1')\n",
    "    elif S>22:\n",
    "        print('Ошибка:число должно быть не больше 22')\n",
    "    else:\n",
    "        if S<=2:\n",
    "            S*=10.5\n",
    "        else:\n",
    "            S=10.5*2+(S-2)*4\n",
    "        print('Возраст собаки в человеческих годах: ',S)\n",
    "except ValueError:\n",
    "    print('Ошибка:введено не число ')"
   ]
  },
  {
   "cell_type": "markdown",
   "id": "b7c1dd9c",
   "metadata": {},
   "source": [
    "Задание 4"
   ]
  },
  {
   "cell_type": "code",
   "execution_count": 13,
   "id": "497143c2",
   "metadata": {},
   "outputs": [
    {
     "name": "stdout",
     "output_type": "stream",
     "text": [
      "Число не делится на 6\n"
     ]
    }
   ],
   "source": [
    "W=int(input('Введи число: '))\n",
    "if (W%2==0) and (W%3==0):\n",
    "    print('Число делится на 6')\n",
    "else:\n",
    "    print('Число не делится на 6')"
   ]
  },
  {
   "cell_type": "markdown",
   "id": "00b00a39",
   "metadata": {},
   "source": [
    "Задание 5"
   ]
  },
  {
   "cell_type": "code",
   "execution_count": 14,
   "id": "9b49a642",
   "metadata": {},
   "outputs": [
    {
     "name": "stdout",
     "output_type": "stream",
     "text": [
      "Ошибка:  ['нет спецсимволов']\n"
     ]
    }
   ],
   "source": [
    "x=input('Введи пароль:')\n",
    "y=[]\n",
    "if len(x)<8: y.append('короткий пароль')\n",
    "if x.islower(): y.append('нет заглавных')\n",
    "if x.isupper(): y.append('нет строчных')\n",
    "if x.isalnum(): y.append('нет спецсимволов')\n",
    "if not any(c in '0123456789' for c in x): y.append('нет цифр')\n",
    "if y:\n",
    "    print('Ошибка: ',y)\n",
    "else:\n",
    "    print('Хороший пароль!')"
   ]
  },
  {
   "cell_type": "markdown",
   "id": "f5a3d9f2",
   "metadata": {},
   "source": [
    "Задание 6"
   ]
  },
  {
   "cell_type": "code",
   "execution_count": 21,
   "id": "6c19ff00",
   "metadata": {},
   "outputs": [
    {
     "name": "stdout",
     "output_type": "stream",
     "text": [
      "2025 -год не високосный\n"
     ]
    }
   ],
   "source": [
    "Year=int(input('Введите год'))\n",
    "if (Year%4==0)and ((Year%100!=0) or (Year%400==0)):\n",
    "    print(Year,'-год високосный')\n",
    "else:\n",
    "    print(Year,'-год не високосный')"
   ]
  },
  {
   "cell_type": "markdown",
   "id": "68094dea",
   "metadata": {},
   "source": [
    "Задание 7"
   ]
  },
  {
   "cell_type": "code",
   "execution_count": 22,
   "id": "c9bae40b",
   "metadata": {},
   "outputs": [
    {
     "name": "stdout",
     "output_type": "stream",
     "text": [
      "1\n"
     ]
    }
   ],
   "source": [
    "a,b,c= input('Введи 3 числа').split()\n",
    "x=0\n",
    "if (a<b)and(a<c):print(a)\n",
    "if (b<a) and (b<c):print(b)\n",
    "if (c<a)and(c<b):print(c)\n"
   ]
  },
  {
   "cell_type": "markdown",
   "id": "0b1af846",
   "metadata": {},
   "source": [
    "Задание 8"
   ]
  },
  {
   "cell_type": "code",
   "execution_count": 41,
   "id": "48cfa9b5",
   "metadata": {},
   "outputs": [
    {
     "name": "stdout",
     "output_type": "stream",
     "text": [
      "Ваша скидка:  0.95\n",
      "К оплате:  1425.0\n"
     ]
    }
   ],
   "source": [
    "S=int(input('Введи сумму покупки: '))\n",
    "if S<1000:\n",
    "    t=1\n",
    "elif S<=5000:\n",
    "    t=0.95\n",
    "elif S<=10000:\n",
    "    t=0.9\n",
    "else:\n",
    "    t=0.85\n",
    "print('Ваша скидка: ',t)\n",
    "print('К оплате: ',S*t)\n"
   ]
  },
  {
   "cell_type": "markdown",
   "id": "2f2fe28d",
   "metadata": {},
   "source": [
    "Задание 9"
   ]
  },
  {
   "cell_type": "code",
   "execution_count": 46,
   "id": "6c13e0b4",
   "metadata": {},
   "outputs": [
    {
     "name": "stdout",
     "output_type": "stream",
     "text": [
      "Сейчас день\n"
     ]
    }
   ],
   "source": [
    "S=int(input('Введи час: '))\n",
    "if S<6:\n",
    "    print('Сейчас ночь')\n",
    "elif S<12:\n",
    "    print('Сейчас утро')\n",
    "elif S<18:\n",
    "    print('Сейчас день')\n",
    "else:\n",
    "    print('Сейчас вечер')\n",
    "\n"
   ]
  },
  {
   "cell_type": "markdown",
   "id": "89cf591f",
   "metadata": {},
   "source": [
    "Задание 10"
   ]
  },
  {
   "cell_type": "code",
   "execution_count": 52,
   "id": "259ce171",
   "metadata": {},
   "outputs": [
    {
     "name": "stdout",
     "output_type": "stream",
     "text": [
      "6 -составное число\n"
     ]
    }
   ],
   "source": [
    "n=int(input('Введи число:'))\n",
    "if n<=1:\n",
    "    print('Ошибка: число должно быть больше 1')\n",
    "else:\n",
    "    for i in range(2,n):\n",
    "        if n%i==0:\n",
    "            print(n,'-составное число')\n",
    "            break\n",
    "            \n",
    "        else:\n",
    "            print(n,'-простое число')"
   ]
  }
 ],
 "metadata": {
  "kernelspec": {
   "display_name": "Python 3",
   "language": "python",
   "name": "python3"
  },
  "language_info": {
   "codemirror_mode": {
    "name": "ipython",
    "version": 3
   },
   "file_extension": ".py",
   "mimetype": "text/x-python",
   "name": "python",
   "nbconvert_exporter": "python",
   "pygments_lexer": "ipython3",
   "version": "3.13.7"
  }
 },
 "nbformat": 4,
 "nbformat_minor": 5
}
